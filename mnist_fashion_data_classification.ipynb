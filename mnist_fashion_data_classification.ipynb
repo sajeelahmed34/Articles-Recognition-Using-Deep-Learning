{
  "nbformat": 4,
  "nbformat_minor": 0,
  "metadata": {
    "colab": {
      "name": "clothe_classification_using_deep_learning.ipynb",
      "provenance": [],
      "authorship_tag": "ABX9TyM0rErzVEEB7WT4tCwYVWqE",
      "include_colab_link": true
    },
    "kernelspec": {
      "name": "python3",
      "display_name": "Python 3"
    },
    "language_info": {
      "name": "python"
    }
  },
  "cells": [
    {
      "cell_type": "markdown",
      "metadata": {
        "id": "view-in-github",
        "colab_type": "text"
      },
      "source": [
        "<a href=\"https://colab.research.google.com/github/sajeelahmed34/Articles-Recognition-Using-Deep-Neural-Network/blob/main/mnist_fashion_data_classification.ipynb\" target=\"_parent\"><img src=\"https://colab.research.google.com/assets/colab-badge.svg\" alt=\"Open In Colab\"/></a>"
      ]
    },
    {
      "cell_type": "markdown",
      "metadata": {
        "id": "c9sEXvTBiZv0"
      },
      "source": [
        "# Classification of products using Fashion MNIST Dataset \n",
        "\n",
        "Fashion-mnist is a dataset of Zalando's article images. It consists of a 60,000 training images and a test set of 10,000 images. Each image is a 28x28 grayscale image, associated with a label from 10 classes. In the following we will build a deep learning model which can classify different fashion products into their respective classes. \n",
        "\n",
        "To start with, first we need to import te tensorflow library and set the version to 2.0"
      ]
    },
    {
      "cell_type": "code",
      "metadata": {
        "id": "vSRk7fNTD0L-"
      },
      "source": [
        "# importing tensorflow lib\n",
        "import tensorflow as tf\n",
        "\n",
        "# changing the version of tensorflow to 2.0\n",
        "%tensorflow_version 2.x\n",
        "print(tf.version)"
      ],
      "execution_count": null,
      "outputs": []
    },
    {
      "cell_type": "code",
      "metadata": {
        "id": "B_1fvNniENVQ"
      },
      "source": [
        "# importing helper libraries \n",
        "import numpy as np \n",
        "import matplotlib.pyplot as plt "
      ],
      "execution_count": null,
      "outputs": []
    },
    {
      "cell_type": "markdown",
      "metadata": {
        "id": "ZF9Crqe-EV6R"
      },
      "source": [
        "# Import dataset\n",
        "For this self project we will use a MNIST Fasion dataset. This is the dataset that is inclused in keras and this dataset contains 60,000 images for training and 10,000 images for validating/testing the model."
      ]
    },
    {
      "cell_type": "code",
      "metadata": {
        "id": "SovH5drEEcUC"
      },
      "source": [
        "from tensorflow import keras\n",
        "\n",
        "fashion_mnist = keras.datasets.fashion_mnist # loading dataset \n",
        "(train_images, train_labels), (test_images, test_labels) = fashion_mnist.load_data() # getting tuples of training and testing data"
      ],
      "execution_count": null,
      "outputs": []
    },
    {
      "cell_type": "code",
      "metadata": {
        "colab": {
          "base_uri": "https://localhost:8080/"
        },
        "id": "59GXZ9GhGc04",
        "outputId": "963bf05f-9f44-490e-eca9-bf25a6c9d11d"
      },
      "source": [
        "# we can look at the size of the train and test data \n",
        "print('train images: ', train_images.shape)\n",
        "print('test images: ', test_images.shape)"
      ],
      "execution_count": null,
      "outputs": [
        {
          "output_type": "stream",
          "name": "stdout",
          "text": [
            "train images:  (60000, 28, 28)\n",
            "test images:  (10000, 28, 28)\n"
          ]
        }
      ]
    },
    {
      "cell_type": "markdown",
      "metadata": {
        "id": "M-Ry41MGGypT"
      },
      "source": [
        "The training dataset contains 60,000 images and each image consists of 28x28 pixels. Similarly the test dataset contains 10,000 images and each image consists of 28x28 pixels. "
      ]
    },
    {
      "cell_type": "markdown",
      "metadata": {
        "id": "GSCgW7lpHR-M"
      },
      "source": [
        "We can look at some of the images to see what clothe articles we are having in our dataset "
      ]
    },
    {
      "cell_type": "code",
      "metadata": {
        "colab": {
          "base_uri": "https://localhost:8080/",
          "height": 265
        },
        "id": "6rf64Oy4Hbj_",
        "outputId": "1bcaa61c-3895-4fba-9dd7-f410f74b9d0a"
      },
      "source": [
        "plt.figure()\n",
        "plt.imshow(train_images[0]) # display first image on a 2D regular raster \n",
        "plt.colorbar()\n",
        "plt.show()"
      ],
      "execution_count": null,
      "outputs": [
        {
          "output_type": "display_data",
          "data": {
            "image/png": "[encoded data removed]",
            "text/plain": [
              "<Figure size 432x288 with 2 Axes>"
            ]
          },
          "metadata": {
            "needs_background": "light"
          }
        }
      ]
    },
    {
      "cell_type": "markdown",
      "metadata": {
        "id": "6n49NobDIAd6"
      },
      "source": [
        "The above image probably looks like a sneaker. lets check other ones"
      ]
    },
    {
      "cell_type": "code",
      "metadata": {
        "colab": {
          "base_uri": "https://localhost:8080/",
          "height": 265
        },
        "id": "it3J9IXAIHPD",
        "outputId": "50258f4e-825b-4afc-bf74-1baf4acef74f"
      },
      "source": [
        "plt.figure()\n",
        "plt.imshow(train_images[1]) # display first image on a 2D regular raster \n",
        "plt.colorbar()\n",
        "plt.show()"
      ],
      "execution_count": null,
      "outputs": [
        {
          "output_type": "display_data",
          "data": {
            "image/png": "[encoded data removed]",
            "text/plain": [
              "<Figure size 432x288 with 2 Axes>"
            ]
          },
          "metadata": {
            "needs_background": "light"
          }
        }
      ]
    },
    {
      "cell_type": "markdown",
      "metadata": {
        "id": "UnLbMv2GIPn1"
      },
      "source": [
        "It looks like a T-shirt "
      ]
    },
    {
      "cell_type": "markdown",
      "metadata": {
        "id": "5ONSgtm6IpTT"
      },
      "source": [
        "# Preprocessing data \n",
        "We are having grayscale images and the pixel values ranges from 0 to 255. What we can do is to preprocess our data before feeding it to our model. We will transform each pixel value in the range of 0 to 1 by diving it by 255.0.We do this because smaller values will make it easier for the model to process our values."
      ]
    },
    {
      "cell_type": "code",
      "metadata": {
        "id": "NiQIBCfGJZ8H"
      },
      "source": [
        "train_images = train_images.astype('float32')/255.0\n",
        "test_images = test_images.astype('float32')/255.0"
      ],
      "execution_count": null,
      "outputs": []
    },
    {
      "cell_type": "markdown",
      "metadata": {
        "id": "cjkySmVsJjRP"
      },
      "source": [
        "# Building the Model\n",
        "\n",
        "Lets use a simple keras sequential model with three different layers."
      ]
    },
    {
      "cell_type": "code",
      "metadata": {
        "id": "fRWUUonpJmyp"
      },
      "source": [
        "model = keras.Sequential()\n",
        "model.add(keras.layers.Flatten(input_shape=(28, 28))) # input layer \n",
        "model.add(keras.layers.Dense(128, activation='relu')) # hiddel layer\n",
        "model.add(keras.layers.Dense(10, activation='softmax')) # output layer "
      ],
      "execution_count": null,
      "outputs": []
    },
    {
      "cell_type": "markdown",
      "metadata": {
        "id": "AVy9DU0BMmMN"
      },
      "source": [
        "# Compiling the Model"
      ]
    },
    {
      "cell_type": "code",
      "metadata": {
        "id": "GtFVIvzGMQ0W"
      },
      "source": [
        "model.compile(optimizer='adam', \n",
        "              loss='sparse_categorical_crossentropy', \n",
        "              metrics=['accuracy'])"
      ],
      "execution_count": null,
      "outputs": []
    },
    {
      "cell_type": "markdown",
      "metadata": {
        "id": "mkKUhMX-MqUJ"
      },
      "source": [
        "# Training the Model"
      ]
    },
    {
      "cell_type": "code",
      "metadata": {
        "colab": {
          "base_uri": "https://localhost:8080/"
        },
        "id": "fq0ld5H3MtP5",
        "outputId": "91beb5ec-9b88-4f75-d140-9552c965bc45"
      },
      "source": [
        "model.fit(train_images, train_labels, epochs=10)"
      ],
      "execution_count": null,
      "outputs": [
        {
          "output_type": "stream",
          "name": "stdout",
          "text": [
            "Epoch 1/10\n",
            "1875/1875 [==============================] - 5s 2ms/step - loss: 0.4954 - accuracy: 0.8249\n",
            "Epoch 2/10\n",
            "1875/1875 [==============================] - 4s 2ms/step - loss: 0.3759 - accuracy: 0.8634\n",
            "Epoch 3/10\n",
            "1875/1875 [==============================] - 4s 2ms/step - loss: 0.3380 - accuracy: 0.8766\n",
            "Epoch 4/10\n",
            "1875/1875 [==============================] - 4s 2ms/step - loss: 0.3130 - accuracy: 0.8857\n",
            "Epoch 5/10\n",
            "1875/1875 [==============================] - 4s 2ms/step - loss: 0.2942 - accuracy: 0.8905\n",
            "Epoch 6/10\n",
            "1875/1875 [==============================] - 4s 2ms/step - loss: 0.2795 - accuracy: 0.8970\n",
            "Epoch 7/10\n",
            "1875/1875 [==============================] - 4s 2ms/step - loss: 0.2690 - accuracy: 0.8997\n",
            "Epoch 8/10\n",
            "1875/1875 [==============================] - 4s 2ms/step - loss: 0.2577 - accuracy: 0.9034\n",
            "Epoch 9/10\n",
            "1875/1875 [==============================] - 4s 2ms/step - loss: 0.2483 - accuracy: 0.9072\n",
            "Epoch 10/10\n",
            "1875/1875 [==============================] - 4s 2ms/step - loss: 0.2397 - accuracy: 0.9107\n"
          ]
        },
        {
          "output_type": "execute_result",
          "data": {
            "text/plain": [
              "<keras.callbacks.History at 0x7fb156740c10>"
            ]
          },
          "metadata": {},
          "execution_count": 10
        }
      ]
    },
    {
      "cell_type": "markdown",
      "metadata": {
        "id": "tR_oopjLUo8W"
      },
      "source": [
        "# Evaluating the Model"
      ]
    },
    {
      "cell_type": "code",
      "metadata": {
        "colab": {
          "base_uri": "https://localhost:8080/"
        },
        "id": "TNlJF6ynUsjF",
        "outputId": "dca42ab9-71d8-432a-b5a3-06e9309b3eee"
      },
      "source": [
        "test_loss, test_acc = model.evaluate(test_images, test_labels, verbose=1)\n",
        "print('Test accuracy:', test_acc)"
      ],
      "execution_count": null,
      "outputs": [
        {
          "output_type": "stream",
          "name": "stdout",
          "text": [
            "313/313 [==============================] - 1s 1ms/step - loss: 0.3472 - accuracy: 0.8786\n",
            "Test accuracy: 0.878600001335144\n"
          ]
        }
      ]
    },
    {
      "cell_type": "markdown",
      "metadata": {
        "id": "11jp-ZLMV2Ar"
      },
      "source": [
        "The test accuracy is 85.45% which is less than the training accuracy (87.72%). This is due to the **overfitting**. We can avoid this overfitting by choosing less value for the epochs. **epochs** indicates how many times our model will see the entire dataset. Choosing higher value for epochs indicating that our model is seeing dataset so many times that actually it has memorize the training data and will not generalize well on the test data. "
      ]
    },
    {
      "cell_type": "markdown",
      "metadata": {
        "id": "pn_A_4f1ismF"
      },
      "source": [
        "# Hyperparameter Tuning "
      ]
    },
    {
      "cell_type": "markdown",
      "metadata": {
        "id": "jUmGJujRaQY4"
      },
      "source": [
        "Another important thing to notice that we have randomly choosen the hyperparameters. In this network we are having many hyperparameters such as **number of hidden neurons**, **optimizers**, **learning rate** \n",
        "\n",
        "We can choose the best hyperparameters with the help of a **keras tuner**"
      ]
    },
    {
      "cell_type": "code",
      "metadata": {
        "id": "iXGviDhvdAGt"
      },
      "source": [
        "# install and import the keras tuner \n",
        "!pip install -q -U keras-tuner\n",
        "\n",
        "import keras_tuner as kt "
      ],
      "execution_count": null,
      "outputs": []
    },
    {
      "cell_type": "markdown",
      "metadata": {
        "id": "t6Vqn2TQd6VX"
      },
      "source": [
        "# Re-build the Model"
      ]
    },
    {
      "cell_type": "code",
      "metadata": {
        "id": "QVXUROKPd9wV"
      },
      "source": [
        "# we can use the model builder function to define the image classification model \n",
        "def model_builder(hp):\n",
        "  model = keras.Sequential() # choose sequential model\n",
        "  model.add(keras.layers.Flatten(input_shape=(28, 28))) # input layer \n",
        "\n",
        "  # tune the number of neurons in the first hidden layer \n",
        "  hp_units = hp.Int(name='units', min_value=32, max_value=512, step=32)\n",
        "  model.add(keras.layers.Dense(units=hp_units, activation='relu')) # hidden layer \n",
        "\n",
        "  model.add(keras.layers.Dense(10)) # output layer \n",
        "\n",
        "  # tune the learning rate for the optimizer\n",
        "  hp_learning_rate = hp.Choice(name='learning_rate', values=[0.01, 0.001, 0.0001])\n",
        "\n",
        "  # compile the model \n",
        "  model.compile(optimizer=keras.optimizers.Adam(learning_rate=hp_learning_rate), \n",
        "                loss=keras.losses.SparseCategoricalCrossentropy(from_logits=True), \n",
        "                metrics=['accuracy'])\n",
        "\n",
        "  return model"
      ],
      "execution_count": null,
      "outputs": []
    },
    {
      "cell_type": "markdown",
      "metadata": {
        "id": "TuRmC7wAeTid"
      },
      "source": [
        "# Instantiate the tuner and performing hyperparamter tuning "
      ]
    },
    {
      "cell_type": "markdown",
      "metadata": {
        "id": "3VcQQULzgIYJ"
      },
      "source": [
        "There are four different hyperparameter tunning methods including `RandomSearch`, `Hyperband`, `BayessianOptimization` and `sklearn`\n",
        "\n",
        "Lets try `Hyperband` technique"
      ]
    },
    {
      "cell_type": "code",
      "metadata": {
        "id": "AWIhS0qFh5En"
      },
      "source": [
        "tuner = kt.Hyperband(model_builder, \n",
        "                     objective='val_accuracy',\n",
        "                     max_epochs=10,\n",
        "                     factor=3,\n",
        "                     overwrite=True,\n",
        "                     directory='hyperband', \n",
        "                     project_name='fasion_mnist')"
      ],
      "execution_count": null,
      "outputs": []
    },
    {
      "cell_type": "code",
      "metadata": {
        "id": "uc0Ahz7Alh-6"
      },
      "source": [
        "# we can avoid overfitting by early stopping that means stops training as the validation loss begins rissing again \n",
        "# we can creat a callback for this\n",
        "stop_early = tf.keras.callbacks.EarlyStopping(monitor='val_loss', patience=5) "
      ],
      "execution_count": null,
      "outputs": []
    },
    {
      "cell_type": "code",
      "metadata": {
        "colab": {
          "base_uri": "https://localhost:8080/"
        },
        "id": "Bbr-dwesmz2C",
        "outputId": "8f0e4ace-7acc-4e64-a4dc-eb6fe4f275f5"
      },
      "source": [
        "# run the hyperparameter searching \n",
        "tuner.search(train_images, train_labels, epochs=50, validation_split=0.2, callbacks=[stop_early])\n",
        "\n",
        "# get the optimal hyperparameters\n",
        "best_hp = tuner.get_best_hyperparameters(num_trials=1)[0]"
      ],
      "execution_count": null,
      "outputs": [
        {
          "output_type": "stream",
          "name": "stdout",
          "text": [
            "Trial 30 Complete [00h 00m 53s]\n",
            "val_accuracy: 0.8645833134651184\n",
            "\n",
            "Best val_accuracy So Far: 0.8910833597183228\n",
            "Total elapsed time: 00h 14m 35s\n",
            "INFO:tensorflow:Oracle triggered exit\n"
          ]
        }
      ]
    },
    {
      "cell_type": "code",
      "metadata": {
        "colab": {
          "base_uri": "https://localhost:8080/"
        },
        "id": "mxywelhHidRj",
        "outputId": "d4765b3f-d891-4c94-e92b-9857791be4ad"
      },
      "source": [
        "# printing the best combination of hypermeters \n",
        "print('The optimal number of neurons in the first densly connected hidden layer is {} \\nThe optimal value for the learning rate is {}'.format(best_hp.get('units'), best_hp.get('learning_rate')))"
      ],
      "execution_count": null,
      "outputs": [
        {
          "output_type": "stream",
          "name": "stdout",
          "text": [
            "The optimal number of neurons in the first densly connected hidden layer is 416 \n",
            "The optimal value for the learning rate is 0.001\n"
          ]
        }
      ]
    },
    {
      "cell_type": "markdown",
      "metadata": {
        "id": "UA5Ojr7ijcLa"
      },
      "source": [
        "# Re-train the Model"
      ]
    },
    {
      "cell_type": "code",
      "metadata": {
        "colab": {
          "base_uri": "https://localhost:8080/"
        },
        "id": "biJfe2OBjgg6",
        "outputId": "84b3614f-eda8-4bce-fcd4-ea8481368a02"
      },
      "source": [
        "# build the model with the optimal hyperparamters and train it on the data for 50 epochs\n",
        "model = tuner.hypermodel.build(best_hp)\n",
        "history = model.fit(train_images, train_labels, validation_split=0.2, epochs=50)"
      ],
      "execution_count": null,
      "outputs": [
        {
          "output_type": "stream",
          "name": "stdout",
          "text": [
            "Epoch 1/50\n",
            "1500/1500 [==============================] - 7s 5ms/step - loss: 0.4969 - accuracy: 0.8231 - val_loss: 0.3925 - val_accuracy: 0.8594\n",
            "Epoch 2/50\n",
            "1500/1500 [==============================] - 7s 5ms/step - loss: 0.3719 - accuracy: 0.8646 - val_loss: 0.3852 - val_accuracy: 0.8604\n",
            "Epoch 3/50\n",
            "1500/1500 [==============================] - 8s 5ms/step - loss: 0.3324 - accuracy: 0.8777 - val_loss: 0.3590 - val_accuracy: 0.8725\n",
            "Epoch 4/50\n",
            "1500/1500 [==============================] - 7s 5ms/step - loss: 0.3073 - accuracy: 0.8869 - val_loss: 0.3292 - val_accuracy: 0.8832\n",
            "Epoch 5/50\n",
            "1500/1500 [==============================] - 8s 5ms/step - loss: 0.2843 - accuracy: 0.8949 - val_loss: 0.3342 - val_accuracy: 0.8827\n",
            "Epoch 6/50\n",
            "1500/1500 [==============================] - 8s 5ms/step - loss: 0.2730 - accuracy: 0.8988 - val_loss: 0.3559 - val_accuracy: 0.8768\n",
            "Epoch 7/50\n",
            "1500/1500 [==============================] - 7s 5ms/step - loss: 0.2579 - accuracy: 0.9036 - val_loss: 0.3128 - val_accuracy: 0.8860\n",
            "Epoch 8/50\n",
            "1500/1500 [==============================] - 8s 5ms/step - loss: 0.2462 - accuracy: 0.9085 - val_loss: 0.3081 - val_accuracy: 0.8926\n",
            "Epoch 9/50\n",
            "1500/1500 [==============================] - 8s 5ms/step - loss: 0.2350 - accuracy: 0.9130 - val_loss: 0.3318 - val_accuracy: 0.8864\n",
            "Epoch 10/50\n",
            "1500/1500 [==============================] - 8s 5ms/step - loss: 0.2265 - accuracy: 0.9144 - val_loss: 0.3154 - val_accuracy: 0.8910\n",
            "Epoch 11/50\n",
            "1500/1500 [==============================] - 7s 5ms/step - loss: 0.2167 - accuracy: 0.9185 - val_loss: 0.3231 - val_accuracy: 0.8877\n",
            "Epoch 12/50\n",
            "1500/1500 [==============================] - 7s 5ms/step - loss: 0.2066 - accuracy: 0.9229 - val_loss: 0.3028 - val_accuracy: 0.8958\n",
            "Epoch 13/50\n",
            "1500/1500 [==============================] - 8s 5ms/step - loss: 0.2018 - accuracy: 0.9256 - val_loss: 0.3216 - val_accuracy: 0.8928\n",
            "Epoch 14/50\n",
            "1500/1500 [==============================] - 7s 5ms/step - loss: 0.1920 - accuracy: 0.9282 - val_loss: 0.3242 - val_accuracy: 0.8931\n",
            "Epoch 15/50\n",
            "1500/1500 [==============================] - 8s 5ms/step - loss: 0.1859 - accuracy: 0.9309 - val_loss: 0.3295 - val_accuracy: 0.8940\n",
            "Epoch 16/50\n",
            "1500/1500 [==============================] - 7s 5ms/step - loss: 0.1785 - accuracy: 0.9337 - val_loss: 0.3149 - val_accuracy: 0.8960\n",
            "Epoch 17/50\n",
            "1500/1500 [==============================] - 8s 5ms/step - loss: 0.1737 - accuracy: 0.9348 - val_loss: 0.3393 - val_accuracy: 0.8927\n",
            "Epoch 18/50\n",
            "1500/1500 [==============================] - 8s 5ms/step - loss: 0.1675 - accuracy: 0.9376 - val_loss: 0.3543 - val_accuracy: 0.8868\n",
            "Epoch 19/50\n",
            "1500/1500 [==============================] - 7s 5ms/step - loss: 0.1628 - accuracy: 0.9376 - val_loss: 0.3500 - val_accuracy: 0.8937\n",
            "Epoch 20/50\n",
            "1500/1500 [==============================] - 8s 5ms/step - loss: 0.1584 - accuracy: 0.9411 - val_loss: 0.3631 - val_accuracy: 0.8924\n",
            "Epoch 21/50\n",
            "1500/1500 [==============================] - 8s 5ms/step - loss: 0.1540 - accuracy: 0.9426 - val_loss: 0.3503 - val_accuracy: 0.8913\n",
            "Epoch 22/50\n",
            "1500/1500 [==============================] - 7s 5ms/step - loss: 0.1477 - accuracy: 0.9453 - val_loss: 0.3570 - val_accuracy: 0.8965\n",
            "Epoch 23/50\n",
            "1500/1500 [==============================] - 8s 5ms/step - loss: 0.1435 - accuracy: 0.9459 - val_loss: 0.3600 - val_accuracy: 0.8975\n",
            "Epoch 24/50\n",
            "1500/1500 [==============================] - 8s 5ms/step - loss: 0.1379 - accuracy: 0.9486 - val_loss: 0.3541 - val_accuracy: 0.8959\n",
            "Epoch 25/50\n",
            "1500/1500 [==============================] - 8s 5ms/step - loss: 0.1367 - accuracy: 0.9492 - val_loss: 0.3680 - val_accuracy: 0.8929\n",
            "Epoch 26/50\n",
            "1500/1500 [==============================] - 7s 5ms/step - loss: 0.1319 - accuracy: 0.9496 - val_loss: 0.3665 - val_accuracy: 0.8968\n",
            "Epoch 27/50\n",
            "1500/1500 [==============================] - 7s 5ms/step - loss: 0.1264 - accuracy: 0.9521 - val_loss: 0.4193 - val_accuracy: 0.8895\n",
            "Epoch 28/50\n",
            "1500/1500 [==============================] - 8s 5ms/step - loss: 0.1272 - accuracy: 0.9523 - val_loss: 0.4189 - val_accuracy: 0.8918\n",
            "Epoch 29/50\n",
            "1500/1500 [==============================] - 8s 5ms/step - loss: 0.1185 - accuracy: 0.9551 - val_loss: 0.3978 - val_accuracy: 0.8930\n",
            "Epoch 30/50\n",
            "1500/1500 [==============================] - 8s 5ms/step - loss: 0.1176 - accuracy: 0.9555 - val_loss: 0.3996 - val_accuracy: 0.8958\n",
            "Epoch 31/50\n",
            "1500/1500 [==============================] - 8s 5ms/step - loss: 0.1142 - accuracy: 0.9567 - val_loss: 0.4153 - val_accuracy: 0.8931\n",
            "Epoch 32/50\n",
            "1500/1500 [==============================] - 8s 5ms/step - loss: 0.1123 - accuracy: 0.9580 - val_loss: 0.4379 - val_accuracy: 0.8881\n",
            "Epoch 33/50\n",
            "1500/1500 [==============================] - 8s 5ms/step - loss: 0.1102 - accuracy: 0.9581 - val_loss: 0.4326 - val_accuracy: 0.8889\n",
            "Epoch 34/50\n",
            "1500/1500 [==============================] - 8s 5ms/step - loss: 0.1100 - accuracy: 0.9584 - val_loss: 0.4214 - val_accuracy: 0.8953\n",
            "Epoch 35/50\n",
            "1500/1500 [==============================] - 7s 5ms/step - loss: 0.1057 - accuracy: 0.9609 - val_loss: 0.4237 - val_accuracy: 0.8990\n",
            "Epoch 36/50\n",
            "1500/1500 [==============================] - 7s 5ms/step - loss: 0.1022 - accuracy: 0.9610 - val_loss: 0.4570 - val_accuracy: 0.8932\n",
            "Epoch 37/50\n",
            "1500/1500 [==============================] - 7s 5ms/step - loss: 0.0995 - accuracy: 0.9628 - val_loss: 0.4352 - val_accuracy: 0.8978\n",
            "Epoch 38/50\n",
            "1500/1500 [==============================] - 7s 5ms/step - loss: 0.0970 - accuracy: 0.9635 - val_loss: 0.4433 - val_accuracy: 0.8956\n",
            "Epoch 39/50\n",
            "1500/1500 [==============================] - 7s 5ms/step - loss: 0.0960 - accuracy: 0.9640 - val_loss: 0.4448 - val_accuracy: 0.8952\n",
            "Epoch 40/50\n",
            "1500/1500 [==============================] - 7s 5ms/step - loss: 0.0953 - accuracy: 0.9639 - val_loss: 0.4791 - val_accuracy: 0.8919\n",
            "Epoch 41/50\n",
            "1500/1500 [==============================] - 8s 5ms/step - loss: 0.0937 - accuracy: 0.9653 - val_loss: 0.4615 - val_accuracy: 0.8960\n",
            "Epoch 42/50\n",
            "1500/1500 [==============================] - 7s 5ms/step - loss: 0.0892 - accuracy: 0.9664 - val_loss: 0.4790 - val_accuracy: 0.8943\n",
            "Epoch 43/50\n",
            "1500/1500 [==============================] - 7s 5ms/step - loss: 0.0885 - accuracy: 0.9667 - val_loss: 0.4801 - val_accuracy: 0.8913\n",
            "Epoch 44/50\n",
            "1500/1500 [==============================] - 8s 5ms/step - loss: 0.0840 - accuracy: 0.9681 - val_loss: 0.5271 - val_accuracy: 0.8891\n",
            "Epoch 45/50\n",
            "1500/1500 [==============================] - 8s 5ms/step - loss: 0.0837 - accuracy: 0.9679 - val_loss: 0.4953 - val_accuracy: 0.8933\n",
            "Epoch 46/50\n",
            "1500/1500 [==============================] - 7s 5ms/step - loss: 0.0838 - accuracy: 0.9688 - val_loss: 0.5278 - val_accuracy: 0.8921\n",
            "Epoch 47/50\n",
            "1500/1500 [==============================] - 7s 5ms/step - loss: 0.0785 - accuracy: 0.9703 - val_loss: 0.5333 - val_accuracy: 0.8933\n",
            "Epoch 48/50\n",
            "1500/1500 [==============================] - 7s 5ms/step - loss: 0.0780 - accuracy: 0.9706 - val_loss: 0.5332 - val_accuracy: 0.8933\n",
            "Epoch 49/50\n",
            "1500/1500 [==============================] - 8s 5ms/step - loss: 0.0778 - accuracy: 0.9702 - val_loss: 0.5119 - val_accuracy: 0.8928\n",
            "Epoch 50/50\n",
            "1500/1500 [==============================] - 8s 5ms/step - loss: 0.0759 - accuracy: 0.9720 - val_loss: 0.5393 - val_accuracy: 0.8952\n"
          ]
        }
      ]
    },
    {
      "cell_type": "code",
      "metadata": {
        "colab": {
          "base_uri": "https://localhost:8080/"
        },
        "id": "x8EE79Dul_2Z",
        "outputId": "bc305f13-8ea9-4991-8b2d-82be4d6a36d6"
      },
      "source": [
        "# now we can select the best epoch which gives us the smallest validation loss \n",
        "val_accuracy_per_epoch = history.history['val_accuracy']\n",
        "best_epoch = val_accuracy_per_epoch.index(max(val_accuracy_per_epoch))+1\n",
        "print('best epoch: ', best_epoch)"
      ],
      "execution_count": null,
      "outputs": [
        {
          "output_type": "stream",
          "name": "stdout",
          "text": [
            "best epoch:  35\n"
          ]
        }
      ]
    },
    {
      "cell_type": "markdown",
      "metadata": {
        "id": "m3XWVlNltBuD"
      },
      "source": [
        "Re-instantiate the hypermodel and train the model with the best hyperparameters "
      ]
    },
    {
      "cell_type": "code",
      "metadata": {
        "colab": {
          "base_uri": "https://localhost:8080/"
        },
        "id": "J9dYsTZ3tJu0",
        "outputId": "895cea3e-baf2-478b-ba66-964bcc0b61d4"
      },
      "source": [
        "hypermodel = tuner.hypermodel.build(best_hp)\n",
        "\n",
        "# re-train the model\n",
        "hypermodel.fit(train_images, train_labels, epochs=best_epoch, validation_split=0.2)"
      ],
      "execution_count": null,
      "outputs": [
        {
          "output_type": "stream",
          "name": "stdout",
          "text": [
            "Epoch 1/35\n",
            "1500/1500 [==============================] - 7s 5ms/step - loss: 0.4959 - accuracy: 0.8243 - val_loss: 0.4030 - val_accuracy: 0.8553\n",
            "Epoch 2/35\n",
            "1500/1500 [==============================] - 7s 4ms/step - loss: 0.3713 - accuracy: 0.8653 - val_loss: 0.3495 - val_accuracy: 0.8691\n",
            "Epoch 3/35\n",
            "1500/1500 [==============================] - 8s 5ms/step - loss: 0.3342 - accuracy: 0.8763 - val_loss: 0.3530 - val_accuracy: 0.8714\n",
            "Epoch 4/35\n",
            "1500/1500 [==============================] - 7s 5ms/step - loss: 0.3074 - accuracy: 0.8865 - val_loss: 0.3349 - val_accuracy: 0.8758\n",
            "Epoch 5/35\n",
            "1500/1500 [==============================] - 7s 5ms/step - loss: 0.2881 - accuracy: 0.8913 - val_loss: 0.3213 - val_accuracy: 0.8845\n",
            "Epoch 6/35\n",
            "1500/1500 [==============================] - 8s 5ms/step - loss: 0.2730 - accuracy: 0.8986 - val_loss: 0.3236 - val_accuracy: 0.8821\n",
            "Epoch 7/35\n",
            "1500/1500 [==============================] - 8s 5ms/step - loss: 0.2569 - accuracy: 0.9040 - val_loss: 0.3184 - val_accuracy: 0.8832\n",
            "Epoch 8/35\n",
            "1500/1500 [==============================] - 7s 5ms/step - loss: 0.2474 - accuracy: 0.9065 - val_loss: 0.3259 - val_accuracy: 0.8855\n",
            "Epoch 9/35\n",
            "1500/1500 [==============================] - 7s 5ms/step - loss: 0.2353 - accuracy: 0.9118 - val_loss: 0.3196 - val_accuracy: 0.8877\n",
            "Epoch 10/35\n",
            "1500/1500 [==============================] - 7s 5ms/step - loss: 0.2249 - accuracy: 0.9165 - val_loss: 0.3181 - val_accuracy: 0.8873\n",
            "Epoch 11/35\n",
            "1500/1500 [==============================] - 8s 5ms/step - loss: 0.2175 - accuracy: 0.9181 - val_loss: 0.3340 - val_accuracy: 0.8871\n",
            "Epoch 12/35\n",
            "1500/1500 [==============================] - 7s 5ms/step - loss: 0.2090 - accuracy: 0.9210 - val_loss: 0.3280 - val_accuracy: 0.8863\n",
            "Epoch 13/35\n",
            "1500/1500 [==============================] - 7s 5ms/step - loss: 0.1997 - accuracy: 0.9251 - val_loss: 0.3206 - val_accuracy: 0.8917\n",
            "Epoch 14/35\n",
            "1500/1500 [==============================] - 7s 5ms/step - loss: 0.1928 - accuracy: 0.9271 - val_loss: 0.3263 - val_accuracy: 0.8907\n",
            "Epoch 15/35\n",
            "1500/1500 [==============================] - 8s 5ms/step - loss: 0.1852 - accuracy: 0.9313 - val_loss: 0.3343 - val_accuracy: 0.8912\n",
            "Epoch 16/35\n",
            "1500/1500 [==============================] - 8s 5ms/step - loss: 0.1788 - accuracy: 0.9332 - val_loss: 0.3310 - val_accuracy: 0.8917\n",
            "Epoch 17/35\n",
            "1500/1500 [==============================] - 7s 5ms/step - loss: 0.1731 - accuracy: 0.9363 - val_loss: 0.3566 - val_accuracy: 0.8912\n",
            "Epoch 18/35\n",
            "1500/1500 [==============================] - 8s 5ms/step - loss: 0.1690 - accuracy: 0.9371 - val_loss: 0.3337 - val_accuracy: 0.8944\n",
            "Epoch 19/35\n",
            "1500/1500 [==============================] - 7s 5ms/step - loss: 0.1656 - accuracy: 0.9365 - val_loss: 0.3515 - val_accuracy: 0.8923\n",
            "Epoch 20/35\n",
            "1500/1500 [==============================] - 8s 5ms/step - loss: 0.1565 - accuracy: 0.9411 - val_loss: 0.3352 - val_accuracy: 0.8970\n",
            "Epoch 21/35\n",
            "1500/1500 [==============================] - 7s 5ms/step - loss: 0.1531 - accuracy: 0.9428 - val_loss: 0.3728 - val_accuracy: 0.8879\n",
            "Epoch 22/35\n",
            "1500/1500 [==============================] - 7s 5ms/step - loss: 0.1467 - accuracy: 0.9448 - val_loss: 0.3451 - val_accuracy: 0.8923\n",
            "Epoch 23/35\n",
            "1500/1500 [==============================] - 7s 4ms/step - loss: 0.1435 - accuracy: 0.9456 - val_loss: 0.3586 - val_accuracy: 0.8975\n",
            "Epoch 24/35\n",
            "1500/1500 [==============================] - 8s 5ms/step - loss: 0.1438 - accuracy: 0.9468 - val_loss: 0.3646 - val_accuracy: 0.8927\n",
            "Epoch 25/35\n",
            "1500/1500 [==============================] - 7s 4ms/step - loss: 0.1327 - accuracy: 0.9496 - val_loss: 0.3628 - val_accuracy: 0.8957\n",
            "Epoch 26/35\n",
            "1500/1500 [==============================] - 7s 5ms/step - loss: 0.1351 - accuracy: 0.9487 - val_loss: 0.3990 - val_accuracy: 0.8919\n",
            "Epoch 27/35\n",
            "1500/1500 [==============================] - 7s 5ms/step - loss: 0.1271 - accuracy: 0.9524 - val_loss: 0.4023 - val_accuracy: 0.8894\n",
            "Epoch 28/35\n",
            "1500/1500 [==============================] - 8s 5ms/step - loss: 0.1215 - accuracy: 0.9551 - val_loss: 0.3851 - val_accuracy: 0.8943\n",
            "Epoch 29/35\n",
            "1500/1500 [==============================] - 8s 5ms/step - loss: 0.1191 - accuracy: 0.9546 - val_loss: 0.3918 - val_accuracy: 0.8932\n",
            "Epoch 30/35\n",
            "1500/1500 [==============================] - 7s 5ms/step - loss: 0.1176 - accuracy: 0.9554 - val_loss: 0.4092 - val_accuracy: 0.8887\n",
            "Epoch 31/35\n",
            "1500/1500 [==============================] - 8s 5ms/step - loss: 0.1135 - accuracy: 0.9569 - val_loss: 0.3910 - val_accuracy: 0.8980\n",
            "Epoch 32/35\n",
            "1500/1500 [==============================] - 7s 5ms/step - loss: 0.1130 - accuracy: 0.9560 - val_loss: 0.4145 - val_accuracy: 0.8902\n",
            "Epoch 33/35\n",
            "1500/1500 [==============================] - 7s 4ms/step - loss: 0.1093 - accuracy: 0.9587 - val_loss: 0.4258 - val_accuracy: 0.8887\n",
            "Epoch 34/35\n",
            "1500/1500 [==============================] - 7s 5ms/step - loss: 0.1043 - accuracy: 0.9610 - val_loss: 0.4270 - val_accuracy: 0.8957\n",
            "Epoch 35/35\n",
            "1500/1500 [==============================] - 7s 5ms/step - loss: 0.1039 - accuracy: 0.9615 - val_loss: 0.4453 - val_accuracy: 0.8952\n"
          ]
        },
        {
          "output_type": "execute_result",
          "data": {
            "text/plain": [
              "<keras.callbacks.History at 0x7fb154d3ac50>"
            ]
          },
          "metadata": {},
          "execution_count": 43
        }
      ]
    },
    {
      "cell_type": "markdown",
      "metadata": {
        "id": "AD1hQQdmus8U"
      },
      "source": [
        "# Re-evaluating the Model"
      ]
    },
    {
      "cell_type": "code",
      "metadata": {
        "colab": {
          "base_uri": "https://localhost:8080/"
        },
        "id": "9FeacZkuusJN",
        "outputId": "2e34b44a-1b97-4a38-8041-94232313fbc4"
      },
      "source": [
        "eval_result = hypermodel.evaluate(test_images, test_labels)\n",
        "\n",
        "print('[test loss, test_accuracy]= ', eval_result)"
      ],
      "execution_count": null,
      "outputs": [
        {
          "output_type": "stream",
          "name": "stdout",
          "text": [
            "313/313 [==============================] - 1s 3ms/step - loss: 0.5219 - accuracy: 0.8860\n",
            "[test loss, test_accuracy]=  [0.5219339728355408, 0.8859999775886536]\n"
          ]
        }
      ]
    },
    {
      "cell_type": "markdown",
      "metadata": {
        "id": "BuImNXXSvKHp"
      },
      "source": [
        "# Prediction on test data \n",
        "\n",
        "Our labels are integers ranging from 0 - 9. Each integer represents a specific article of clothing. We'll create an array of label names to indicate which is which."
      ]
    },
    {
      "cell_type": "code",
      "metadata": {
        "id": "VAlyfN17ve1Y"
      },
      "source": [
        "predictions = hypermodel.predict(test_images)"
      ],
      "execution_count": null,
      "outputs": []
    },
    {
      "cell_type": "markdown",
      "metadata": {
        "id": "5Df2IC7NwiLF"
      },
      "source": [
        "# Verifying Predictions"
      ]
    },
    {
      "cell_type": "code",
      "metadata": {
        "colab": {
          "base_uri": "https://localhost:8080/",
          "height": 303
        },
        "id": "iXSyG2a6wmtd",
        "outputId": "968b5480-e405-4637-e074-86807f1e03cf"
      },
      "source": [
        "COLOR = 'white'\n",
        "plt.rcParams['text.color'] = COLOR\n",
        "plt.rcParams['axes.labelcolor'] = COLOR\n",
        "\n",
        "def predict(hypermodel, image, correct_label):\n",
        "  class_names = ['T-shirt/top', 'Trouser', 'Pullover', 'Dress', 'Coat',\n",
        "               'Sandal', 'Shirt', 'Sneaker', 'Bag', 'Ankle boot']\n",
        "  prediction = hypermodel.predict(np.array([image]))\n",
        "  predicted_class = class_names[np.argmax(prediction)]\n",
        "\n",
        "  show_image(image, class_names[correct_label], predicted_class)\n",
        "\n",
        "\n",
        "def show_image(img, label, guess):\n",
        "  plt.figure()\n",
        "  plt.imshow(img, cmap=plt.cm.binary)\n",
        "  plt.colorbar()\n",
        "  plt.grid(False)\n",
        "  plt.show()\n",
        "  print('correct class: ', label)\n",
        "  print('prediced class: ' , guess)\n",
        "num = 10\n",
        "image = test_images[num]\n",
        "label = test_labels[num]\n",
        "predict(hypermodel, image, label)\n"
      ],
      "execution_count": null,
      "outputs": [
        {
          "output_type": "display_data",
          "data": {
            "image/png": "[encoded data removed]",
            "text/plain": [
              "<Figure size 432x288 with 2 Axes>"
            ]
          },
          "metadata": {
            "needs_background": "light"
          }
        },
        {
          "output_type": "stream",
          "name": "stdout",
          "text": [
            "correct class:  Coat\n",
            "prediced class:  Coat\n"
          ]
        }
      ]
    },
    {
      "cell_type": "markdown",
      "metadata": {
        "id": "3pjb3jljk22A"
      },
      "source": [
        "# Summary\n",
        "\n",
        "The followwing important points to notice:\n",
        "\n",
        "*   Developed a deep neural network classifier with three layers, the `input layer`, `1 hidden layer` and `output layer` \n",
        "*   Input layer consists of 784 neurons, output layer consists of 10 neurons this is due to the fact that we are having fashion articles from 10 different classes. \n",
        "* For hyperparameter tuning, we have used Hyperband technique although there are other methods available. \n",
        "* After hyperparameter tuning, we got 416 neurons are required for the hidden layer, it requires 35 epochs to train the model and an early stopping scheme is used to prevent model from overfitting. \n",
        "* The validation accuracy is 89.52% while the test accuracy is 88.60%\n",
        "\n"
      ]
    }
  ]
}